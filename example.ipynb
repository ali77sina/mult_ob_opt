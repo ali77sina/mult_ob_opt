{
  "nbformat": 4,
  "nbformat_minor": 0,
  "metadata": {
    "colab": {
      "name": "sin_snip_HW_opt.ipynb",
      "provenance": [],
      "collapsed_sections": [],
      "authorship_tag": "ABX9TyPyS7k/sYhtOSnxQiCUsgPD",
      "include_colab_link": true
    },
    "kernelspec": {
      "name": "python3",
      "display_name": "Python 3"
    },
    "language_info": {
      "name": "python"
    }
  },
  "cells": [
    {
      "cell_type": "markdown",
      "metadata": {
        "id": "view-in-github",
        "colab_type": "text"
      },
      "source": [
        "<a href=\"https://colab.research.google.com/github/ali77sina/mult_ob_opt/blob/main/example.ipynb\" target=\"_parent\"><img src=\"https://colab.research.google.com/assets/colab-badge.svg\" alt=\"Open In Colab\"/></a>"
      ]
    },
    {
      "cell_type": "code",
      "source": [
        "#installing skopt library\n",
        "!pip install scikit-optimize"
      ],
      "metadata": {
        "colab": {
          "base_uri": "https://localhost:8080/"
        },
        "id": "QZs1Zt-d8-GP",
        "outputId": "391b7588-64bc-4afc-d305-dbc30aa06503"
      },
      "execution_count": 76,
      "outputs": [
        {
          "output_type": "stream",
          "name": "stdout",
          "text": [
            "Looking in indexes: https://pypi.org/simple, https://us-python.pkg.dev/colab-wheels/public/simple/\n",
            "Requirement already satisfied: scikit-optimize in /usr/local/lib/python3.7/dist-packages (0.9.0)\n",
            "Requirement already satisfied: pyaml>=16.9 in /usr/local/lib/python3.7/dist-packages (from scikit-optimize) (21.10.1)\n",
            "Requirement already satisfied: numpy>=1.13.3 in /usr/local/lib/python3.7/dist-packages (from scikit-optimize) (1.21.6)\n",
            "Requirement already satisfied: joblib>=0.11 in /usr/local/lib/python3.7/dist-packages (from scikit-optimize) (1.1.0)\n",
            "Requirement already satisfied: scikit-learn>=0.20.0 in /usr/local/lib/python3.7/dist-packages (from scikit-optimize) (1.0.2)\n",
            "Requirement already satisfied: scipy>=0.19.1 in /usr/local/lib/python3.7/dist-packages (from scikit-optimize) (1.7.3)\n",
            "Requirement already satisfied: PyYAML in /usr/local/lib/python3.7/dist-packages (from pyaml>=16.9->scikit-optimize) (3.13)\n",
            "Requirement already satisfied: threadpoolctl>=2.0.0 in /usr/local/lib/python3.7/dist-packages (from scikit-learn>=0.20.0->scikit-optimize) (3.1.0)\n"
          ]
        }
      ]
    },
    {
      "cell_type": "code",
      "execution_count": 77,
      "metadata": {
        "id": "UQ5p_ASJ8qVY"
      },
      "outputs": [],
      "source": [
        "#importing relevant libraries\n",
        "import numpy as np\n",
        "import matplotlib.pyplot as plt\n",
        "import tensorflow as tf\n",
        "from skopt import gp_minimize\n",
        "from sklearn.utils import shuffle\n",
        "from tensorflow.keras.layers import Input, Dense, Dropout\n",
        "from sklearn.metrics import auc\n",
        "from skopt import gp_minimize\n",
        "from skopt.space.space import Integer\n",
        "from tensorflow.keras.models import Model"
      ]
    },
    {
      "cell_type": "code",
      "source": [
        "snip_len = 1 #snippet length in secs\n",
        "fs = 256 #sampling freq\n",
        "win_size = 30 #window size of input\n",
        "f_max = 100 #maximum frequency to be sampled\n",
        "t = np.linspace(0, snip_len, fs*snip_len) #vector of time for snippet\n",
        "f_low = 1 #lower boundry for detection of snippet\n",
        "f_high = 50 #higher boundry for detection of snippet"
      ],
      "metadata": {
        "id": "K_vMCXgt9huE"
      },
      "execution_count": 78,
      "outputs": []
    },
    {
      "cell_type": "code",
      "source": [
        "x_train = []  #list to create training data\n",
        "y_train = []  #labels for training data\n",
        "for _ in range(100):  #loop to create the training dataset\n",
        "  f = np.random.random()*f_max  #frequency of the current snippet\n",
        "  if f>f_low and f<f_high:  #if statement for the label \n",
        "    y = 1 #positive if the freq is within range \n",
        "  else: #0 if not within range\n",
        "    y = 0\n",
        "  x = np.sin(2*np.pi*f*t) #snippet of sine wave\n",
        "  x += np.random.normal(0,0.1,len(x)) #adding gaussian noise\n",
        "  for i in range(len(x) - win_size):  #loop to create training data\n",
        "    x_train.append(x[i:i+win_size])\n",
        "    y_train.append(y)\n",
        "x_train = np.array(x_train)\n",
        "y_train = np.array(y_train)\n",
        "x_train, y_train = shuffle(x_train, y_train)\n",
        "print(x_train.shape)\n",
        "print(y_train.shape)"
      ],
      "metadata": {
        "colab": {
          "base_uri": "https://localhost:8080/"
        },
        "id": "d30SNM0Q9WkB",
        "outputId": "03f8b44a-e3c8-45de-b63e-ca6293302b89"
      },
      "execution_count": 79,
      "outputs": [
        {
          "output_type": "stream",
          "name": "stdout",
          "text": [
            "(22600, 30)\n",
            "(22600,)\n"
          ]
        }
      ]
    },
    {
      "cell_type": "code",
      "source": [
        "x_test = []  #list to create test data\n",
        "y_test = []  #labels for test data\n",
        "for _ in range(50):  #loop to create the training dataset\n",
        "  f = np.random.random()*f_max  #frequency of the current snippet\n",
        "  if f>f_low and f<f_high:  #if statement for the label \n",
        "    y = 1 #positive if the freq is within range \n",
        "  else: #0 if not within range\n",
        "    y = 0\n",
        "  x = np.sin(2*np.pi*f*t) #snippet of sine wave\n",
        "  x += np.random.normal(0,0.1,len(x)) #adding gaussian noise\n",
        "  for i in range(len(x) - win_size):  #loop to create test data\n",
        "    x_test.append(x[i:i+win_size])\n",
        "    y_test.append(y)\n",
        "x_test = np.array(x_test)\n",
        "y_test = np.array(y_test)\n",
        "x_test, y_test = shuffle(x_test, y_test)\n",
        "print(x_test.shape)\n",
        "print(y_test.shape)"
      ],
      "metadata": {
        "colab": {
          "base_uri": "https://localhost:8080/"
        },
        "id": "BiQEwMxc_zrT",
        "outputId": "49f80ca3-9fac-491b-8a4c-fd646a397f5c"
      },
      "execution_count": 80,
      "outputs": [
        {
          "output_type": "stream",
          "name": "stdout",
          "text": [
            "(11300, 30)\n",
            "(11300,)\n"
          ]
        }
      ]
    },
    {
      "cell_type": "markdown",
      "source": [
        "few functions to use during optimization"
      ],
      "metadata": {
        "id": "bTTGYhXxFo56"
      }
    },
    {
      "cell_type": "code",
      "source": [
        "#function to return fpr and tpr for ROC\n",
        "def ROC(y_true, y_pred, threshold_range):\n",
        "    fpr = []  #vector to save false positive rate\n",
        "    tpr = []  #vector to save true positive rate\n",
        "    for thr in threshold_range: #loop going thorugh each thresholds\n",
        "        tp = 0  #true positive\n",
        "        fp = 0  #false positive\n",
        "        tn = 0  #true negative\n",
        "        fn = 0  #false negative\n",
        "        new_y = np.zeros(len(y_pred)) #vector to store binary prediction based on current threshold\n",
        "        for num,i in enumerate(y_pred):\n",
        "            if i > thr:\n",
        "                new_y[num] = 1\n",
        "        for i,j in zip(y_true, new_y):  #loop to calculate metrics\n",
        "            if i == j and i == 1:\n",
        "                tp += 1\n",
        "            if i == j and i == 0:\n",
        "                tn += 1\n",
        "            if i == 1 and j == 0:\n",
        "                fn += 1\n",
        "            if i == 0 and j == 1:\n",
        "                fp += 1\n",
        "        tpr.append(tp/(fn+tp))\n",
        "        fpr.append(fp/(tn+fp))\n",
        "    plt.plot(fpr, tpr)\n",
        "    return fpr, tpr\n",
        "\n",
        "#function to create model \n",
        "#2 variables to be optimized are nodes in 2 hidden layers, d1 and d2\n",
        "def creat_model(d1,d2):\n",
        "  inp = Input((win_size))\n",
        "  x = Dense(d1, activation = 'relu')(inp)\n",
        "  Dropout(0.2)(x)\n",
        "  x = Dense(d2, activation = 'relu')(x)\n",
        "  Dropout(0.2)(x)\n",
        "  out = Dense(1, activation = 'sigmoid')(x)\n",
        "  model = Model(inputs = inp, outputs = out)\n",
        "  model.compile(loss = 'binary_crossentropy', optimizer = 'adam', metrics = ['accuracy'])\n",
        "  return model\n",
        "\n",
        "#function to return AUC value\n",
        "def return_auc(params):\n",
        "  model = creat_model(params[0],params[1])\n",
        "  model.fit(x_train, y_train, batch_size = 128, epochs = 3)  #training model \n",
        "  y_pred = model.predict(x_test)\n",
        "  fpr, tpr = ROC(y_test, y_pred, np.linspace(0,1,20))\n",
        "  auc_val = auc(fpr, tpr)\n",
        "  print('AUC is {}'.format(auc_val))\n",
        "  return -auc_val #returning negative value since the GP is minizmizing it\n"
      ],
      "metadata": {
        "id": "JzeN_1G8_-X9"
      },
      "execution_count": 81,
      "outputs": []
    },
    {
      "cell_type": "code",
      "source": [
        "#running optimization\n",
        "default_parameters = [8, 8] #initial params\n",
        "d1 = Integer(low=4, high=32, name='d1') #nodes in first layer\n",
        "d2 = Integer(low=4, high=32, name='d2') #nodes in second layer\n",
        "dimensions = [d1, d2]\n",
        "search_result = gp_minimize(func=return_auc,\n",
        "                            dimensions=dimensions,\n",
        "                            acq_func='EI', # Expected Improvement.\n",
        "                            n_calls=11,\n",
        "                            x0=default_parameters)\n"
      ],
      "metadata": {
        "colab": {
          "base_uri": "https://localhost:8080/",
          "height": 1000
        },
        "id": "izvoMHkBFt6D",
        "outputId": "bdd3f718-7b67-4487-d92f-ba74f62bc868"
      },
      "execution_count": 82,
      "outputs": [
        {
          "output_type": "stream",
          "name": "stdout",
          "text": [
            "Epoch 1/3\n",
            "177/177 [==============================] - 1s 3ms/step - loss: 0.6061 - accuracy: 0.6773\n",
            "Epoch 2/3\n",
            "177/177 [==============================] - 0s 2ms/step - loss: 0.2885 - accuracy: 0.9298\n",
            "Epoch 3/3\n",
            "177/177 [==============================] - 0s 2ms/step - loss: 0.1031 - accuracy: 0.9878\n",
            "354/354 [==============================] - 1s 2ms/step\n",
            "AUC is 0.9996624808043937\n",
            "Epoch 1/3\n",
            "177/177 [==============================] - 2s 5ms/step - loss: 0.3255 - accuracy: 0.8981\n",
            "Epoch 2/3\n",
            "177/177 [==============================] - 1s 4ms/step - loss: 0.0366 - accuracy: 0.9909\n",
            "Epoch 3/3\n",
            "177/177 [==============================] - 1s 4ms/step - loss: 0.0188 - accuracy: 0.9938\n",
            "354/354 [==============================] - 2s 5ms/step\n",
            "AUC is 1.0\n",
            "Epoch 1/3\n",
            "177/177 [==============================] - 2s 5ms/step - loss: 0.4445 - accuracy: 0.8092\n",
            "Epoch 2/3\n",
            "177/177 [==============================] - 1s 5ms/step - loss: 0.0846 - accuracy: 0.9845\n",
            "Epoch 3/3\n",
            "177/177 [==============================] - 1s 5ms/step - loss: 0.0318 - accuracy: 0.9903\n",
            "354/354 [==============================] - 2s 4ms/step\n",
            "AUC is 1.0\n",
            "Epoch 1/3\n",
            "177/177 [==============================] - 1s 2ms/step - loss: 0.4365 - accuracy: 0.8043\n",
            "Epoch 2/3\n",
            "177/177 [==============================] - 0s 2ms/step - loss: 0.0736 - accuracy: 0.9876\n",
            "Epoch 3/3\n",
            "177/177 [==============================] - 0s 2ms/step - loss: 0.0315 - accuracy: 0.9902\n",
            "354/354 [==============================] - 1s 1ms/step\n",
            "AUC is 1.0\n",
            "Epoch 1/3\n",
            "177/177 [==============================] - 1s 2ms/step - loss: 0.3633 - accuracy: 0.8627\n",
            "Epoch 2/3\n",
            "177/177 [==============================] - 0s 2ms/step - loss: 0.0427 - accuracy: 0.9910\n",
            "Epoch 3/3\n",
            "177/177 [==============================] - 0s 2ms/step - loss: 0.0179 - accuracy: 0.9949\n",
            "354/354 [==============================] - 1s 1ms/step\n",
            "AUC is 1.0\n",
            "Epoch 1/3\n",
            "177/177 [==============================] - 1s 2ms/step - loss: 0.5179 - accuracy: 0.7590\n",
            "Epoch 2/3\n",
            "177/177 [==============================] - 0s 2ms/step - loss: 0.1392 - accuracy: 0.9787\n",
            "Epoch 3/3\n",
            "177/177 [==============================] - 0s 2ms/step - loss: 0.0464 - accuracy: 0.9930\n",
            "354/354 [==============================] - 1s 1ms/step\n",
            "AUC is 0.9999999999999999\n",
            "Epoch 1/3\n",
            "177/177 [==============================] - 1s 2ms/step - loss: 0.5427 - accuracy: 0.7422\n",
            "Epoch 2/3\n",
            "177/177 [==============================] - 0s 2ms/step - loss: 0.1664 - accuracy: 0.9697\n",
            "Epoch 3/3\n",
            "177/177 [==============================] - 0s 2ms/step - loss: 0.0471 - accuracy: 0.9923\n",
            "354/354 [==============================] - 0s 1ms/step\n",
            "AUC is 0.9999999999999999\n",
            "Epoch 1/3\n",
            "177/177 [==============================] - 2s 2ms/step - loss: 0.5059 - accuracy: 0.8050\n",
            "Epoch 2/3\n",
            "177/177 [==============================] - 0s 2ms/step - loss: 0.0982 - accuracy: 0.9831\n",
            "Epoch 3/3\n",
            "177/177 [==============================] - 0s 3ms/step - loss: 0.0293 - accuracy: 0.9915\n",
            "354/354 [==============================] - 1s 3ms/step\n",
            "AUC is 1.0\n",
            "Epoch 1/3\n",
            "177/177 [==============================] - 3s 7ms/step - loss: 0.3995 - accuracy: 0.8307\n",
            "Epoch 2/3\n",
            "177/177 [==============================] - 1s 5ms/step - loss: 0.0412 - accuracy: 0.9927\n",
            "Epoch 3/3\n",
            "177/177 [==============================] - 1s 7ms/step - loss: 0.0188 - accuracy: 0.9940\n",
            "354/354 [==============================] - 1s 4ms/step\n",
            "AUC is 1.0\n",
            "Epoch 1/3\n",
            "177/177 [==============================] - 1s 2ms/step - loss: 0.4739 - accuracy: 0.8085\n",
            "Epoch 2/3\n",
            "177/177 [==============================] - 0s 2ms/step - loss: 0.0903 - accuracy: 0.9894\n",
            "Epoch 3/3\n",
            "177/177 [==============================] - 0s 2ms/step - loss: 0.0306 - accuracy: 0.9927\n",
            "354/354 [==============================] - 1s 1ms/step\n",
            "AUC is 1.0\n",
            "Epoch 1/3\n",
            "177/177 [==============================] - 1s 2ms/step - loss: 0.5170 - accuracy: 0.7574\n",
            "Epoch 2/3\n",
            "177/177 [==============================] - 0s 2ms/step - loss: 0.1499 - accuracy: 0.9649\n",
            "Epoch 3/3\n",
            "177/177 [==============================] - 0s 2ms/step - loss: 0.0481 - accuracy: 0.9858\n",
            "354/354 [==============================] - 1s 1ms/step\n",
            "AUC is 0.9999963427932661\n"
          ]
        },
        {
          "output_type": "display_data",
          "data": {
            "text/plain": [
              "<Figure size 432x288 with 1 Axes>"
            ],
            "image/png": "[encoded data removed]"
          },
          "metadata": {
            "needs_background": "light"
          }
        }
      ]
    },
    {
      "cell_type": "code",
      "source": [
        "print(search_result.x) #corresponding values\n",
        "print(search_result.fun) #corresponding AUC"
      ],
      "metadata": {
        "colab": {
          "base_uri": "https://localhost:8080/"
        },
        "id": "5-pxSYbRJcZn",
        "outputId": "d4024766-4876-4edf-fcdd-2eb8ec332093"
      },
      "execution_count": 83,
      "outputs": [
        {
          "output_type": "stream",
          "name": "stdout",
          "text": [
            "[30, 30]\n",
            "-1.0\n"
          ]
        }
      ]
    },
    {
      "cell_type": "code",
      "source": [
        "auc_vec = []  #vector to store AUC values \n",
        "\n",
        "#func to calculate total number of params\n",
        "def total_number(model):\n",
        "    trainableParams = np.sum([np.prod(v.get_shape()) for v in model.trainable_weights])\n",
        "    nonTrainableParams = np.sum([np.prod(v.get_shape()) for v in model.non_trainable_weights])\n",
        "    totalParams = trainableParams + nonTrainableParams\n",
        "    return totalParams\n",
        "\n",
        "#function to return AUC value\n",
        "def return_auc_HW(params):\n",
        "  model = creat_model(params[0],params[1])\n",
        "  model.fit(x_train, y_train, batch_size = 128, epochs = 3)  #training model \n",
        "  y_pred = model.predict(x_test)\n",
        "  fpr, tpr = ROC(y_test, y_pred, np.linspace(0,1,20))\n",
        "  auc_val = auc(fpr, tpr)\n",
        "  print('AUC is {}'.format(auc_val))\n",
        "  total_n = total_number(model)\n",
        "  lmbda = 0.01\n",
        "  global auc_vec\n",
        "  auc_vec.append(auc_val)\n",
        "  return -auc_val + lmbda*total_n #returning negative value since the GP is minizmizing it\n",
        "\n",
        "#running optimization\n",
        "default_parameters = [8, 8] #initial params\n",
        "d1 = Integer(low=4, high=32, name='d1') #nodes in first layer\n",
        "d2 = Integer(low=4, high=32, name='d2') #nodes in second layer\n",
        "dimensions = [d1, d2]\n",
        "search_result_hw = gp_minimize(func=return_auc_HW,\n",
        "                            dimensions=dimensions,\n",
        "                            acq_func='EI', # Expected Improvement.\n",
        "                            n_calls=11,\n",
        "                            x0=default_parameters)"
      ],
      "metadata": {
        "colab": {
          "base_uri": "https://localhost:8080/",
          "height": 1000
        },
        "id": "JSQArS9KJoy_",
        "outputId": "491b1f04-db48-4dca-ad3f-2e42507249a1"
      },
      "execution_count": 84,
      "outputs": [
        {
          "output_type": "stream",
          "name": "stdout",
          "text": [
            "Epoch 1/3\n",
            "177/177 [==============================] - 1s 3ms/step - loss: 0.5939 - accuracy: 0.7066\n",
            "Epoch 2/3\n",
            "177/177 [==============================] - 0s 2ms/step - loss: 0.2696 - accuracy: 0.9391\n",
            "Epoch 3/3\n",
            "177/177 [==============================] - 1s 3ms/step - loss: 0.0861 - accuracy: 0.9851\n",
            "354/354 [==============================] - 1s 3ms/step\n",
            "AUC is 0.9999989911153837\n",
            "Epoch 1/3\n",
            "177/177 [==============================] - 2s 5ms/step - loss: 0.5527 - accuracy: 0.7489\n",
            "Epoch 2/3\n",
            "177/177 [==============================] - 1s 5ms/step - loss: 0.1730 - accuracy: 0.9742\n",
            "Epoch 3/3\n",
            "177/177 [==============================] - 1s 5ms/step - loss: 0.0482 - accuracy: 0.9899\n",
            "354/354 [==============================] - 1s 3ms/step\n",
            "AUC is 0.9999998581256009\n",
            "Epoch 1/3\n",
            "177/177 [==============================] - 3s 7ms/step - loss: 0.5280 - accuracy: 0.7602\n",
            "Epoch 2/3\n",
            "177/177 [==============================] - 1s 7ms/step - loss: 0.2442 - accuracy: 0.9499\n",
            "Epoch 3/3\n",
            "177/177 [==============================] - 1s 5ms/step - loss: 0.0903 - accuracy: 0.9837\n",
            "354/354 [==============================] - 1s 2ms/step\n",
            "AUC is 0.9999991802812493\n",
            "Epoch 1/3\n",
            "177/177 [==============================] - 1s 2ms/step - loss: 0.5435 - accuracy: 0.7567\n",
            "Epoch 2/3\n",
            "177/177 [==============================] - 0s 2ms/step - loss: 0.1510 - accuracy: 0.9776\n",
            "Epoch 3/3\n",
            "177/177 [==============================] - 0s 2ms/step - loss: 0.0401 - accuracy: 0.9914\n",
            "354/354 [==============================] - 1s 1ms/step\n",
            "AUC is 1.0\n",
            "Epoch 1/3\n",
            "177/177 [==============================] - 1s 3ms/step - loss: 0.4060 - accuracy: 0.8438\n",
            "Epoch 2/3\n",
            "177/177 [==============================] - 1s 4ms/step - loss: 0.0715 - accuracy: 0.9887\n",
            "Epoch 3/3\n",
            "177/177 [==============================] - 1s 4ms/step - loss: 0.0261 - accuracy: 0.9918\n",
            "354/354 [==============================] - 1s 1ms/step\n",
            "AUC is 1.0\n",
            "Epoch 1/3\n",
            "177/177 [==============================] - 1s 2ms/step - loss: 0.3619 - accuracy: 0.8670\n",
            "Epoch 2/3\n",
            "177/177 [==============================] - 0s 2ms/step - loss: 0.0392 - accuracy: 0.9921\n",
            "Epoch 3/3\n",
            "177/177 [==============================] - 0s 3ms/step - loss: 0.0196 - accuracy: 0.9945\n",
            "354/354 [==============================] - 1s 1ms/step\n",
            "AUC is 1.0\n",
            "Epoch 1/3\n",
            "177/177 [==============================] - 1s 2ms/step - loss: 0.4296 - accuracy: 0.8522\n",
            "Epoch 2/3\n",
            "177/177 [==============================] - 0s 2ms/step - loss: 0.0738 - accuracy: 0.9882\n",
            "Epoch 3/3\n",
            "177/177 [==============================] - 0s 2ms/step - loss: 0.0263 - accuracy: 0.9915\n",
            "354/354 [==============================] - 1s 1ms/step\n",
            "AUC is 1.0\n",
            "Epoch 1/3\n",
            "177/177 [==============================] - 1s 2ms/step - loss: 0.5584 - accuracy: 0.7238\n",
            "Epoch 2/3\n",
            "177/177 [==============================] - 0s 2ms/step - loss: 0.2560 - accuracy: 0.9369\n",
            "Epoch 3/3\n",
            "177/177 [==============================] - 0s 2ms/step - loss: 0.0957 - accuracy: 0.9813\n",
            "354/354 [==============================] - 1s 1ms/step\n",
            "AUC is 0.9991456638958912\n",
            "Epoch 1/3\n",
            "177/177 [==============================] - 1s 2ms/step - loss: 0.4243 - accuracy: 0.8589\n",
            "Epoch 2/3\n",
            "177/177 [==============================] - 0s 2ms/step - loss: 0.0710 - accuracy: 0.9923\n",
            "Epoch 3/3\n",
            "177/177 [==============================] - 0s 2ms/step - loss: 0.0246 - accuracy: 0.9956\n",
            "354/354 [==============================] - 1s 1ms/step\n",
            "AUC is 0.9999999999999999\n",
            "Epoch 1/3\n",
            "177/177 [==============================] - 1s 2ms/step - loss: 0.4678 - accuracy: 0.7757\n",
            "Epoch 2/3\n",
            "177/177 [==============================] - 0s 2ms/step - loss: 0.1031 - accuracy: 0.9827\n",
            "Epoch 3/3\n",
            "177/177 [==============================] - 0s 2ms/step - loss: 0.0308 - accuracy: 0.9940\n",
            "354/354 [==============================] - 1s 1ms/step\n",
            "AUC is 1.0000000000000002\n",
            "Epoch 1/3\n",
            "177/177 [==============================] - 1s 2ms/step - loss: 0.4813 - accuracy: 0.8196\n",
            "Epoch 2/3\n",
            "177/177 [==============================] - 0s 2ms/step - loss: 0.0931 - accuracy: 0.9846\n",
            "Epoch 3/3\n",
            "177/177 [==============================] - 0s 2ms/step - loss: 0.0312 - accuracy: 0.9920\n",
            "354/354 [==============================] - 1s 1ms/step\n",
            "AUC is 0.9999999999999999\n"
          ]
        },
        {
          "output_type": "display_data",
          "data": {
            "text/plain": [
              "<Figure size 432x288 with 1 Axes>"
            ],
            "image/png": "[encoded data removed]"
          },
          "metadata": {
            "needs_background": "light"
          }
        }
      ]
    },
    {
      "cell_type": "code",
      "source": [
        "print(search_result_hw.x) #corresponding values\n",
        "print(search_result_hw.fun) #corresponding AUC + params related loss\n",
        "\n",
        "for num,i in enumerate(search_result_hw.x_iters):\n",
        "  if i == search_result_hw.x:\n",
        "    auc_val = auc_vec[num]"
      ],
      "metadata": {
        "colab": {
          "base_uri": "https://localhost:8080/"
        },
        "id": "LkHMUPywKWVC",
        "outputId": "8d77de86-69cc-49ff-bc0d-6b5e8aea58b4"
      },
      "execution_count": 85,
      "outputs": [
        {
          "output_type": "stream",
          "name": "stdout",
          "text": [
            "[8, 8]\n",
            "2.2900010088846163\n"
          ]
        }
      ]
    },
    {
      "cell_type": "code",
      "source": [
        "model_norm = creat_model(search_result.x[0], search_result.x[1])  #params optimized only for performance\n",
        "model_HW = creat_model(search_result_hw.x[0], search_result_hw.x[1])  #params optimized with num of params\n",
        "param_norm = total_number(model_norm)\n",
        "param_HW = total_number(model_HW)\n",
        "print('new model is x{} times smaller'.format(param_norm/param_HW))\n",
        "print('HW model AUC:{}, Performance model AUC: {}'.format(auc_val, -search_result.fun))\n",
        "print('difference in AUC values: {}'.format(-search_result.fun - auc_val))"
      ],
      "metadata": {
        "colab": {
          "base_uri": "https://localhost:8080/"
        },
        "id": "Y_4oB2qAKpDx",
        "outputId": "de2deb92-2b28-4a84-9e93-f5d853eaaabc"
      },
      "execution_count": 86,
      "outputs": [
        {
          "output_type": "stream",
          "name": "stdout",
          "text": [
            "new model is x5.7477203647416415 times smaller\n",
            "HW model AUC:0.9999989911153837, Performance model AUC: 1.0\n",
            "difference in AUC values: 1.0088846162936704e-06\n"
          ]
        }
      ]
    }
  ]
}